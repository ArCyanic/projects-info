{
 "cells": [
  {
   "cell_type": "code",
   "execution_count": 2,
   "source": [
    "import pandas as pd"
   ],
   "outputs": [],
   "metadata": {}
  },
  {
   "cell_type": "code",
   "execution_count": 3,
   "source": [
    "df = pd.read_csv(\"resource/raw-dataset/量子科技专利数据-01.csv\")\n",
    "required = ['申请日', '专利类型']\n",
    "for i in range(2,5):\n",
    "    # read in file\n",
    "    temp = pd.read_csv(\"resource/raw-dataset/量子科技专利数据-0{}.csv\".format(i))\n",
    "    # append to df\n",
    "    df = df.append(temp, ignore_index=True)\n",
    "\n",
    "df = df[required]\n",
    "df.to_csv('resource/统计专用版-申请日.csv', index=False)"
   ],
   "outputs": [],
   "metadata": {}
  }
 ],
 "metadata": {
  "orig_nbformat": 4,
  "language_info": {
   "name": "python",
   "version": "3.8.8",
   "mimetype": "text/x-python",
   "codemirror_mode": {
    "name": "ipython",
    "version": 3
   },
   "pygments_lexer": "ipython3",
   "nbconvert_exporter": "python",
   "file_extension": ".py"
  },
  "kernelspec": {
   "name": "python3",
   "display_name": "Python 3.8.8 64-bit"
  },
  "interpreter": {
   "hash": "dca0ade3e726a953b501b15e8e990130d2b7799f14cfd9f4271676035ebe5511"
  }
 },
 "nbformat": 4,
 "nbformat_minor": 2
}